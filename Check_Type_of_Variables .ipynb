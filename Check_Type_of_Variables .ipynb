{
 "cells": [
  {
   "cell_type": "code",
   "execution_count": 1,
   "metadata": {},
   "outputs": [
    {
     "name": "stdout",
     "output_type": "stream",
     "text": [
      "The variable x is a list\n",
      "The variable x is a set\n",
      "The variable x is a tuple\n",
      "Neither a list or a set or a tuple\n"
     ]
    }
   ],
   "source": [
    "def check_type (nums):\n",
    "    \n",
    "    '''The isinstance() function returns True\n",
    "    if the specified object is of the specified type, \n",
    "    otherwise False.'''\n",
    "    \n",
    "    if isinstance(x, tuple) ==True: \n",
    "        return \"The variable x is a tuple\"\n",
    "    elif isinstance(x, list) ==True:\n",
    "        return \"The variable x is a list\"\n",
    "    elif isinstance(x, set) ==True:\n",
    "        return \"The variable x is a set\"\n",
    "    else:\n",
    "        return \"Neither a list or a set or a tuple\"\n",
    "x = [\"a\", \"b\",\"c\", \"d\", \"e\"]\n",
    "print (check_type(x))\n",
    "x = {\"a\", \"b\",\"c\", \"d\", \"e\"}\n",
    "print (check_type(x))\n",
    "x = (\"tuple\", False, 50.5,4)\n",
    "print (check_type(x))\n",
    "x = 100\n",
    "print (check_type(x))"
   ]
  },
  {
   "cell_type": "code",
   "execution_count": null,
   "metadata": {},
   "outputs": [],
   "source": []
  }
 ],
 "metadata": {
  "kernelspec": {
   "display_name": "Python 3",
   "language": "python",
   "name": "python3"
  },
  "language_info": {
   "codemirror_mode": {
    "name": "ipython",
    "version": 3
   },
   "file_extension": ".py",
   "mimetype": "text/x-python",
   "name": "python",
   "nbconvert_exporter": "python",
   "pygments_lexer": "ipython3",
   "version": "3.8.5"
  }
 },
 "nbformat": 4,
 "nbformat_minor": 4
}
